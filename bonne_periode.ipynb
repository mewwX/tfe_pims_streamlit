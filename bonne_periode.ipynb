{
 "cells": [
  {
   "cell_type": "code",
   "execution_count": 1,
   "metadata": {},
   "outputs": [
    {
     "name": "stdout",
     "output_type": "stream",
     "text": [
      "Début du script = 2020-07-28 08:55:39.135524\n"
     ]
    }
   ],
   "source": [
    "from datetime import datetime\n",
    "now1 = datetime.now()\n",
    "print(\"Début du script =\", now1)\n",
    "\n",
    "import warnings\n",
    "warnings.filterwarnings('ignore')"
   ]
  },
  {
   "cell_type": "code",
   "execution_count": 2,
   "metadata": {},
   "outputs": [],
   "source": [
    "import os\n",
    "import sys\n",
    "import datetime as dt\n",
    "import pandas as pd\n",
    "import numpy as np\n",
    "import statistics as sts\n",
    "\n",
    "#A executer à la fin, après avoir sauvegarder pour passer en *.py\n",
    "#!jupyter nbconvert --to script parent_enfant.ipynb"
   ]
  },
  {
   "cell_type": "code",
   "execution_count": 3,
   "metadata": {},
   "outputs": [],
   "source": [
    "#Connexion base Cassandra\n",
    "import cassandra\n",
    "from cassandra.cluster import Cluster\n",
    "from cassandra.auth import PlainTextAuthProvider\n",
    "\n",
    "auth_provider = PlainTextAuthProvider(username='cassandra', password='cassandra')\n",
    "cluster = Cluster(['srv-cassandra'], auth_provider=auth_provider)\n",
    "\n",
    "session = cluster.connect()\n",
    "\n",
    "insertinto = session.prepare(\"\"\"\n",
    "                             INSERT INTO ods.genealogie (id_produit, id_fardeau, date_depart_client, genealogie, id_rouleau, machine_prod, niveau, num_bl, num_cmd_sap, type_produit) \n",
    "                             VALUES (?, ?, ?, ?, ?, ?, ?, ?, ?, ?);\n",
    "                             \"\"\")\n",
    "\n",
    "# bounded = insertinto.bind(listCass)                \n",
    "# session.execute(bounded)"
   ]
  },
  {
   "cell_type": "code",
   "execution_count": 4,
   "metadata": {},
   "outputs": [],
   "source": [
    "rows = session.execute(\"\"\"SELECT name FROM ods.tags_def WHERE line = 'V3_rv'\"\"\")\n",
    "taglist2 = []\n",
    "for row in rows :\n",
    "    taglist2.append(row.name)"
   ]
  },
  {
   "cell_type": "code",
   "execution_count": 5,
   "metadata": {},
   "outputs": [],
   "source": [
    "# taglist2"
   ]
  },
  {
   "cell_type": "code",
   "execution_count": 6,
   "metadata": {},
   "outputs": [],
   "source": [
    "debut_bonne_periode = dt.datetime(2020,5,28,15,0)\n",
    "fin_bonne_periode = dt.datetime(2020,5,28,15,15)"
   ]
  },
  {
   "cell_type": "code",
   "execution_count": 7,
   "metadata": {},
   "outputs": [],
   "source": [
    "# SELECT name, timestamp, value\n",
    "nowtemp = datetime.now()"
   ]
  },
  {
   "cell_type": "code",
   "execution_count": 8,
   "metadata": {},
   "outputs": [],
   "source": [
    "dataz = {'name': [], 'avg': [], 'min': [], 'max': [], 'count': [], 'std1': []}\n",
    "df_bonne_periode_final = pd.DataFrame(dataz)\n",
    "\n",
    "for i in range (len(taglist2)):\n",
    "#     print(i, taglist2[i], str(debut_bonne_periode.year), str(debut_bonne_periode), str(fin_bonne_periode))\n",
    "    rows_bonne_periode = session.execute(\"\"\"SELECT name, value\n",
    "                                                FROM aethertimeseries.datapointsyear \n",
    "                                                WHERE name = $$\"\"\"+taglist2[i]+\"\"\"$$ \n",
    "                                                AND year = \"\"\"+str(debut_bonne_periode.year)+\"\"\"\n",
    "\n",
    "                                                AND timestamp >= $$\"\"\"+str(debut_bonne_periode)+\"\"\"$$\n",
    "                                                AND timestamp <= $$\"\"\"+str(fin_bonne_periode)+\"\"\"$$;\n",
    "                                                \n",
    "                                           \"\"\")\n",
    "    \n",
    "    tag_name = taglist2[i]\n",
    "    list_value = []\n",
    "    avg, count, minimum, maximum, std1 = 0, 0, 0, 0, 0\n",
    "    \n",
    "    try :\n",
    "        for row in rows_bonne_periode :\n",
    "            list_value.append(float(row.value))\n",
    "        avg = round(sts.mean(list_value),3)\n",
    "        count = round(len(list_value),3)\n",
    "        minimum = round(min(list_value),3)\n",
    "        maximum = round(max(list_value),3)\n",
    "        std1 = round(np.std(list_value), 3)\n",
    "        \n",
    "    except :\n",
    "        del avg\n",
    "    \n",
    "    try :\n",
    "        list_df = [tag_name, avg, minimum, maximum, count, std1]\n",
    "        df_bonne_periode_final.loc[len(df_bonne_periode_final)] = list_df\n",
    "        \n",
    "    except :\n",
    "        print(taglist2[i])"
   ]
  },
  {
   "cell_type": "code",
   "execution_count": 9,
   "metadata": {},
   "outputs": [
    {
     "name": "stdout",
     "output_type": "stream",
     "text": [
      "Fin du Script = 2020-07-28 08:55:46.110247\n"
     ]
    }
   ],
   "source": [
    "now2 = datetime.now()\n",
    "print(\"Fin du Script =\", now2)"
   ]
  },
  {
   "cell_type": "code",
   "execution_count": 10,
   "metadata": {},
   "outputs": [
    {
     "name": "stdout",
     "output_type": "stream",
     "text": [
      "0:00:04.628881\n"
     ]
    }
   ],
   "source": [
    "print (now2-nowtemp)"
   ]
  },
  {
   "cell_type": "code",
   "execution_count": 11,
   "metadata": {},
   "outputs": [],
   "source": [
    "df_bonne_periode_final['minus 1 std'] = df_bonne_periode_final['avg'] - df_bonne_periode_final['std1']\n",
    "df_bonne_periode_final['minus 2 std'] = df_bonne_periode_final['avg'] - df_bonne_periode_final['std1']*2\n",
    "df_bonne_periode_final['minus 3 std'] = df_bonne_periode_final['avg'] - df_bonne_periode_final['std1']*3\n",
    "\n",
    "df_bonne_periode_final['plus 1 std'] = df_bonne_periode_final['avg'] + df_bonne_periode_final['std1']\n",
    "df_bonne_periode_final['plus 2 std'] = df_bonne_periode_final['avg'] + df_bonne_periode_final['std1']*2\n",
    "df_bonne_periode_final['plus 3 std'] = df_bonne_periode_final['avg'] + df_bonne_periode_final['std1']*3"
   ]
  },
  {
   "cell_type": "code",
   "execution_count": 12,
   "metadata": {},
   "outputs": [
    {
     "data": {
      "text/html": [
       "<div>\n",
       "<style scoped>\n",
       "    .dataframe tbody tr th:only-of-type {\n",
       "        vertical-align: middle;\n",
       "    }\n",
       "\n",
       "    .dataframe tbody tr th {\n",
       "        vertical-align: top;\n",
       "    }\n",
       "\n",
       "    .dataframe thead th {\n",
       "        text-align: right;\n",
       "    }\n",
       "</style>\n",
       "<table border=\"1\" class=\"dataframe\">\n",
       "  <thead>\n",
       "    <tr style=\"text-align: right;\">\n",
       "      <th></th>\n",
       "      <th>name</th>\n",
       "      <th>avg</th>\n",
       "      <th>min</th>\n",
       "      <th>max</th>\n",
       "      <th>count</th>\n",
       "      <th>std1</th>\n",
       "      <th>minus 1 std</th>\n",
       "      <th>minus 2 std</th>\n",
       "      <th>minus 3 std</th>\n",
       "      <th>plus 1 std</th>\n",
       "      <th>plus 2 std</th>\n",
       "      <th>plus 3 std</th>\n",
       "    </tr>\n",
       "  </thead>\n",
       "  <tbody>\n",
       "    <tr>\n",
       "      <th>0</th>\n",
       "      <td>V3.LF.EL.Dancing.roll.1.pv</td>\n",
       "      <td>2.030</td>\n",
       "      <td>2.030</td>\n",
       "      <td>2.030</td>\n",
       "      <td>180.0</td>\n",
       "      <td>0.0</td>\n",
       "      <td>2.030</td>\n",
       "      <td>2.030</td>\n",
       "      <td>2.030</td>\n",
       "      <td>2.030</td>\n",
       "      <td>2.030</td>\n",
       "      <td>2.030</td>\n",
       "    </tr>\n",
       "    <tr>\n",
       "      <th>1</th>\n",
       "      <td>V3.LF.EL.Dancing.roll.2.pv</td>\n",
       "      <td>0.074</td>\n",
       "      <td>0.074</td>\n",
       "      <td>0.074</td>\n",
       "      <td>15.0</td>\n",
       "      <td>0.0</td>\n",
       "      <td>0.074</td>\n",
       "      <td>0.074</td>\n",
       "      <td>0.074</td>\n",
       "      <td>0.074</td>\n",
       "      <td>0.074</td>\n",
       "      <td>0.074</td>\n",
       "    </tr>\n",
       "    <tr>\n",
       "      <th>2</th>\n",
       "      <td>V3.LF.EL.pression.presseur.P1.EF.pv</td>\n",
       "      <td>0.120</td>\n",
       "      <td>0.120</td>\n",
       "      <td>0.120</td>\n",
       "      <td>15.0</td>\n",
       "      <td>0.0</td>\n",
       "      <td>0.120</td>\n",
       "      <td>0.120</td>\n",
       "      <td>0.120</td>\n",
       "      <td>0.120</td>\n",
       "      <td>0.120</td>\n",
       "      <td>0.120</td>\n",
       "    </tr>\n",
       "    <tr>\n",
       "      <th>3</th>\n",
       "      <td>V3.LF.EL.pression.presseur.P1.SF.pv</td>\n",
       "      <td>0.120</td>\n",
       "      <td>0.120</td>\n",
       "      <td>0.120</td>\n",
       "      <td>15.0</td>\n",
       "      <td>0.0</td>\n",
       "      <td>0.120</td>\n",
       "      <td>0.120</td>\n",
       "      <td>0.120</td>\n",
       "      <td>0.120</td>\n",
       "      <td>0.120</td>\n",
       "      <td>0.120</td>\n",
       "    </tr>\n",
       "    <tr>\n",
       "      <th>4</th>\n",
       "      <td>V3.LF.EL.pression.presseur.P2.EF.pv</td>\n",
       "      <td>0.110</td>\n",
       "      <td>0.110</td>\n",
       "      <td>0.110</td>\n",
       "      <td>15.0</td>\n",
       "      <td>0.0</td>\n",
       "      <td>0.110</td>\n",
       "      <td>0.110</td>\n",
       "      <td>0.110</td>\n",
       "      <td>0.110</td>\n",
       "      <td>0.110</td>\n",
       "      <td>0.110</td>\n",
       "    </tr>\n",
       "  </tbody>\n",
       "</table>\n",
       "</div>"
      ],
      "text/plain": [
       "                                  name    avg    min    max  count  std1  \\\n",
       "0           V3.LF.EL.Dancing.roll.1.pv  2.030  2.030  2.030  180.0   0.0   \n",
       "1           V3.LF.EL.Dancing.roll.2.pv  0.074  0.074  0.074   15.0   0.0   \n",
       "2  V3.LF.EL.pression.presseur.P1.EF.pv  0.120  0.120  0.120   15.0   0.0   \n",
       "3  V3.LF.EL.pression.presseur.P1.SF.pv  0.120  0.120  0.120   15.0   0.0   \n",
       "4  V3.LF.EL.pression.presseur.P2.EF.pv  0.110  0.110  0.110   15.0   0.0   \n",
       "\n",
       "   minus 1 std  minus 2 std  minus 3 std  plus 1 std  plus 2 std  plus 3 std  \n",
       "0        2.030        2.030        2.030       2.030       2.030       2.030  \n",
       "1        0.074        0.074        0.074       0.074       0.074       0.074  \n",
       "2        0.120        0.120        0.120       0.120       0.120       0.120  \n",
       "3        0.120        0.120        0.120       0.120       0.120       0.120  \n",
       "4        0.110        0.110        0.110       0.110       0.110       0.110  "
      ]
     },
     "execution_count": 12,
     "metadata": {},
     "output_type": "execute_result"
    }
   ],
   "source": [
    "df_bonne_periode_final.head()"
   ]
  },
  {
   "cell_type": "code",
   "execution_count": 13,
   "metadata": {},
   "outputs": [],
   "source": [
    "df_bonne_periode_final.to_csv(\"/share-srvcassandra/Divers/bonneperiode/V3/bonneperiode_mai_15h15.csv\",  index = False, sep =\";\", encoding = \"latin-1\")"
   ]
  },
  {
   "cell_type": "code",
   "execution_count": 49,
   "metadata": {},
   "outputs": [
    {
     "name": "stdout",
     "output_type": "stream",
     "text": [
      "FT1\n",
      "T4\n",
      "V1\n",
      "V2\n",
      "V3\n"
     ]
    }
   ],
   "source": [
    "path = \"/share-srvcassandra/Divers/bonneperiode/\"\n",
    "dirs = os.listdir(path)\n",
    "for file in dirs:\n",
    "   print(file)"
   ]
  },
  {
   "cell_type": "code",
   "execution_count": null,
   "metadata": {},
   "outputs": [],
   "source": []
  }
 ],
 "metadata": {
  "kernelspec": {
   "display_name": "Python 3",
   "language": "python",
   "name": "python3"
  },
  "language_info": {
   "codemirror_mode": {
    "name": "ipython",
    "version": 3
   },
   "file_extension": ".py",
   "mimetype": "text/x-python",
   "name": "python",
   "nbconvert_exporter": "python",
   "pygments_lexer": "ipython3",
   "version": "3.7.3"
  }
 },
 "nbformat": 4,
 "nbformat_minor": 2
}
